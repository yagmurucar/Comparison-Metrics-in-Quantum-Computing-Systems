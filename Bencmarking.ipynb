{
  "nbformat": 4,
  "nbformat_minor": 0,
  "metadata": {
    "colab": {
      "provenance": []
    },
    "kernelspec": {
      "name": "python3",
      "display_name": "Python 3"
    },
    "language_info": {
      "name": "python"
    }
  },
  "cells": [
    {
      "cell_type": "code",
      "execution_count": null,
      "metadata": {
        "id": "yENdr3fCXeuY"
      },
      "outputs": [],
      "source": []
    },
    {
      "cell_type": "markdown",
      "source": [
        "KARŞILAŞTIRMA METRİKLERİ(Bencmarking-(Donanım)\n",
        "):\n"
      ],
      "metadata": {
        "id": "LRD3cLuNXfn3"
      }
    },
    {
      "cell_type": "markdown",
      "source": [
        "Bazı kavramlar:\n",
        "\n",
        "\n",
        "Hata Hafifletme(error mitigation): Kuantum bilgisayalarda hatalarrı tamaamen düzeltmek yerine , hataların sonucunu azaltarak veya tahmin ederek sistemin doğruluğunu  arttırma teknikleri.\n",
        "\n",
        "Çapraz Konuşma(Cross Talk):Bir qubit üzerinde işlem yapılırken, yakındaki bir qubit üzerindeki durumu istenmeden etkieme durumu. Katman güvenirliği, bu hatayı ölçmeye çalışır.\n",
        "\n",
        "Ayna Devreler(Mirror circuits):Bir devrenin performansını ölçmek için, devrenin tam tersini katman katman uygulamak, hatanın iptal edilme riski nedeniyle (hatayı eksik sayma) dezavantajlıdır.\n",
        "\n",
        "Üniter 2- Tasarım(Unitary2 -Desing):Clifford kapılarının matematiksel olarak ieal - hear rastgele- dağılımı taklit etme yeteneği. BU clifford RB'nin teorik temelidir.\n",
        "\n",
        "Hibrit Sistemler: Kuantum işlem birimleri ile geleneksel klasik bilgisayaların birlikte çalıştığı sistemlerdir.\n"
      ],
      "metadata": {
        "id": "1RguWgFrXvap"
      }
    },
    {
      "cell_type": "markdown",
      "source": [
        "Kuantum Kıyaslama Metriklerinin Üç Ayağı:\n",
        "\n",
        "\n",
        "1.Ölçek(Scale): Cihazın boyutu yani toplam qubit sayısı.\n",
        "Neden Önemli?: Problemlerin karmaşıklığını ve hesaplama kapasitesini belirler.\n",
        "\n",
        "2.Kalite(QUality): Cihazın gerçekleştirebileceği işlemlerin doğruluğu ve güvenilirliği.\n",
        "Neden Önemli?: Algoritmaarın doğru sonuçlar üretme olasılığını belirler.\n",
        "3.Hız(Speed): İşlemlerin ne kadar hızlı gerçekleştirilebildiği(Kapı Hızı, Okuma Hızı).\n",
        "Neden Önemli?: Hesaplamanın ne kadar sürede tanımlanacağını belirler."
      ],
      "metadata": {
        "id": "RE9ASAx9Y5b5"
      }
    },
    {
      "cell_type": "markdown",
      "source": [
        "Elbette. Paylaştığınız video metni, kuantum işlemcilerin kıyaslanması (benchmarking) konusunu çok detaylı ve teknik bir şekilde ele alıyor. Konuşmacı Luke Govy (IBM), bu alandaki temel metrikleri, bunların zayıf yönlerini ve IBM'in yeni yaklaşımlarını bir piramit modeli üzerinden açıklıyor.\n",
        "\n",
        "Bu metinden yola çıkarak, kuantum programlamadaki karşılaştırma metriklerini ve kavramlarını size öğretiyorum:\n",
        "\n",
        "Kuantum Kıyaslama Metriklerinin Üç Ayağı\n",
        "Luke Govy, kuantum işlemcilerin genel başarısını tanımlamak için bir piramit modeli öneriyor. Bir kuantum cihazın ne kadar iyi olduğunu anlamak için bu üç temel özelliği ölçmelisiniz:\n",
        "\n",
        "Ayak (Metrik Alanı)\tTanım\tNeden Önemli?\n",
        "1. Ölçek (Scale)\tCihazın boyutu, yani toplam qubit sayısı.\tProblemlerin karmaşıklığını ve hesaplama kapasitesini belirler.\n",
        "2. Kalite (Quality)\tCihazın gerçekleştirebileceği işlemlerin doğruluğu ve güvenilirliği.\tAlgoritmaların doğru sonuçlar üretme olasılığını belirler.\n",
        "3. Hız (Speed)\tİşlemlerin ne kadar hızlı gerçekleştirilebildiği (Kapı hızı, okuma hızı).\tHesaplamanın ne kadar sürede tamamlanacağını belirler. (Metinde bu konuya değinilmemiştir.)\n",
        "\n",
        "\n",
        "\n",
        "\n",
        "Amaç: Nihayetinde kıyaslamanın amacı, zor bir problem için çözüm süresi (Time to Solution) olmalıdır. Ancak henüz o noktada değiliz, bu yüzden ara metrikleri kullanıyoruz.\n"
      ],
      "metadata": {
        "id": "An0Kuf0YZx6o"
      }
    },
    {
      "cell_type": "markdown",
      "source": [
        "Temel kalite ve ölçek metrikleri:\n",
        "\n",
        "1.Clifford rasgeleleştirilmiş kıyaslama(Clifford randomized benchmarking-RB):\n",
        "Bu cihazın temel yapı taşlarının kalitesini ölçen en düşük seviyeli (low-level) metrik türüdür.\n",
        "RB nedir?: qubitler üzerindeki tek kapı ve iki qubitli kapıların(cnot..) ortalama hata oranlarını ölçer.\n",
        "Nasıl Çalışır?:Bir dizi rastgele clifford kapısı uygulanır, ardından bu dizinin tam tersi uygulanır ve başlangıç durumuna dönme olasılığı ölçülür.\n",
        "Sınırlaması: RB 127 qubit gibi büyük ölçekli sistemlerde ölçeklenemez.  Çok fazla sayı (hata oranı) ortaya çıkar ve N- qubitli bir Clifford devresi oluşturmak pratik olarak çok zor hale gelir.\n",
        "\n",
        "Neden Clifford: Clifford kapıları hear rastgele kapıları üzerinden bir ortalama almaya yaklaştığı için((üniter-2)) bu daha küçük bir kapı kümesiyle güvenilir bir ortalama hata ölçümü saplar."
      ],
      "metadata": {
        "id": "vzRvp4mBZ3C8"
      }
    },
    {
      "cell_type": "code",
      "source": [
        "!pip install qiskit"
      ],
      "metadata": {
        "colab": {
          "base_uri": "https://localhost:8080/"
        },
        "id": "Y-dFhby4c7AW",
        "outputId": "1362b235-35de-423f-ad26-ac499a4d923a"
      },
      "execution_count": 2,
      "outputs": [
        {
          "output_type": "stream",
          "name": "stdout",
          "text": [
            "Collecting qiskit\n",
            "  Downloading qiskit-2.2.1-cp39-abi3-manylinux2014_x86_64.manylinux_2_17_x86_64.whl.metadata (12 kB)\n",
            "Collecting rustworkx>=0.15.0 (from qiskit)\n",
            "  Downloading rustworkx-0.17.1-cp39-abi3-manylinux_2_17_x86_64.manylinux2014_x86_64.whl.metadata (10 kB)\n",
            "Requirement already satisfied: numpy<3,>=1.17 in /usr/local/lib/python3.12/dist-packages (from qiskit) (2.0.2)\n",
            "Requirement already satisfied: scipy>=1.5 in /usr/local/lib/python3.12/dist-packages (from qiskit) (1.16.2)\n",
            "Requirement already satisfied: dill>=0.3 in /usr/local/lib/python3.12/dist-packages (from qiskit) (0.3.8)\n",
            "Collecting stevedore>=3.0.0 (from qiskit)\n",
            "  Downloading stevedore-5.5.0-py3-none-any.whl.metadata (2.2 kB)\n",
            "Requirement already satisfied: typing-extensions in /usr/local/lib/python3.12/dist-packages (from qiskit) (4.15.0)\n",
            "Downloading qiskit-2.2.1-cp39-abi3-manylinux2014_x86_64.manylinux_2_17_x86_64.whl (8.0 MB)\n",
            "\u001b[2K   \u001b[90m━━━━━━━━━━━━━━━━━━━━━━━━━━━━━━━━━━━━━━━━\u001b[0m \u001b[32m8.0/8.0 MB\u001b[0m \u001b[31m91.3 MB/s\u001b[0m eta \u001b[36m0:00:00\u001b[0m\n",
            "\u001b[?25hDownloading rustworkx-0.17.1-cp39-abi3-manylinux_2_17_x86_64.manylinux2014_x86_64.whl (2.2 MB)\n",
            "\u001b[2K   \u001b[90m━━━━━━━━━━━━━━━━━━━━━━━━━━━━━━━━━━━━━━━━\u001b[0m \u001b[32m2.2/2.2 MB\u001b[0m \u001b[31m91.9 MB/s\u001b[0m eta \u001b[36m0:00:00\u001b[0m\n",
            "\u001b[?25hDownloading stevedore-5.5.0-py3-none-any.whl (49 kB)\n",
            "\u001b[2K   \u001b[90m━━━━━━━━━━━━━━━━━━━━━━━━━━━━━━━━━━━━━━━━\u001b[0m \u001b[32m49.5/49.5 kB\u001b[0m \u001b[31m4.0 MB/s\u001b[0m eta \u001b[36m0:00:00\u001b[0m\n",
            "\u001b[?25hInstalling collected packages: stevedore, rustworkx, qiskit\n",
            "Successfully installed qiskit-2.2.1 rustworkx-0.17.1 stevedore-5.5.0\n"
          ]
        }
      ]
    },
    {
      "cell_type": "code",
      "source": [
        "from qiskit import QuantumCircuit\n",
        "\n",
        "devre = QuantumCircuit(2)\n",
        "\n",
        "# 1. Adım: Bir Clifford Kapısı Dizisi Uygulama\n",
        "devre.h(0)\n",
        "devre.s(0) # Faz Kapısı\n",
        "devre.x(1)\n",
        "devre.z(1)\n",
        "\n",
        "# İki qubit arasında dolanıklık yaratma\n",
        "# Temel 2-qubit Clifford Kapısı\n",
        "devre.cx(0, 1)\n",
        "print(\"Clifford Kapıları Dizisi (L uzunluğunda) \")\n",
        "print(devre.draw(output='text'))\n",
        "\n",
        "# 2. Adım: Dizinin Tersi Olan Tek Bir Clifford Kapısı Uygulama\n",
        "# In a real RB experiment, Qiskit's specialized functions calculate the single inverse Clifford gate.\n",
        "# For this example, we remove the second cx gate as it cancels the first one and causes an error.\n",
        "# devre.cx(0, 1) # Removed the redundant cx gate\n",
        "devre.h(0)\n",
        "\n",
        "print(\"Rastgeleleştirilmiş Kıyaslama Devresi\")\n",
        "print(devre.draw(output='text'))"
      ],
      "metadata": {
        "colab": {
          "base_uri": "https://localhost:8080/"
        },
        "id": "9CrkoSqJayor",
        "outputId": "4e8d95fb-a039-4369-df9c-edf5389a7fbe"
      },
      "execution_count": 8,
      "outputs": [
        {
          "output_type": "stream",
          "name": "stdout",
          "text": [
            "Clifford Kapıları Dizisi (L uzunluğunda) \n",
            "     ┌───┐┌───┐     \n",
            "q_0: ┤ H ├┤ S ├──■──\n",
            "     ├───┤├───┤┌─┴─┐\n",
            "q_1: ┤ X ├┤ Z ├┤ X ├\n",
            "     └───┘└───┘└───┘\n",
            "Rastgeleleştirilmiş Kıyaslama Devresi\n",
            "     ┌───┐┌───┐     ┌───┐\n",
            "q_0: ┤ H ├┤ S ├──■──┤ H ├\n",
            "     ├───┤├───┤┌─┴─┐└───┘\n",
            "q_1: ┤ X ├┤ Z ├┤ X ├─────\n",
            "     └───┘└───┘└───┘     \n"
          ]
        }
      ]
    },
    {
      "cell_type": "markdown",
      "source": [
        "Clifford kapı dizisinden ne anlarız:\n",
        "Bu dizinin amacı, kuantum bilgisayarın karmaşık ve dolanık bir dizi işlemi rastgele bir sırayla gerçekleştirmesini sağlamaktır. Bu sırada, donanımın ve kapıların yarattığı hatalar (gürültü) devreye sızar.\n",
        "\n",
        "Rastgeleleştirilmiş kıyaslama devresi:\n",
        "\n",
        "Ne Anlama Geliyor:\n",
        "\n",
        "İdeal Durum: Eğer kuantum bilgisayar hiçbir hata yapmasaydı, ilk diziyi tersleyen bu son kapı uygulandıktan sonra, qubitler tam olarak başlangıç durumlarına (örneğin hepsi ∣0⟩ durumuna) geri dönerdi.\n",
        "\n",
        "Gerçek Durum: Ancak, cihaz hata (gürültü, çapraz konuşma, vb.) yaptığı için, qubitler başlangıç durumundan biraz sapmış olacaktır.\n",
        "\n",
        "Ölçülen Metrik: RB, bu sapmayı ölçer. Başlangıç durumuna ne kadar yaklaşırsanız, cihazın ortalama hata oranı o kadar düşük demektir.\n",
        "\n",
        "\n",
        "Bu devre çalıştırıldıktan sonra alınan sonuçlar, o kuantum cihazın kapılarının Kalite (Quality) metriği olan Ortalama Hata Oranını hesaplamak için kullanılır."
      ],
      "metadata": {
        "id": "CvJAOpHUef5E"
      }
    },
    {
      "cell_type": "markdown",
      "source": [
        "2. Kuantum Hacmi (Quantum VOLUME-QV):\n",
        "QV, bir kuantum cihazın genel yeteneğini tek bir sayıda birleştiren bileşik bir metriktir.\n",
        "\n",
        "\n",
        "AMAÇ: Cihazın hem kalitesini hem de ölçeğini tek bir 2^m değeriyle göstermek.\n",
        "\n",
        "Nasıl çalışır?: M qubitliklik rastgele bir devre oluşturulur. Devre, ölçümle birlikte çalıştırılır.\n",
        "\n",
        "Zayıf Yönleri:1.Karışıklık: QV, kaliteyi ve ölçeği karıştırır.Yüksek QV, cihazın harika olduğu anlamına gelebileceği gibi, sadece mükemmel bir bağlantı topolojisine sahib oldupu anlamında da gelebilir.\n",
        "2. Simülasyon sınırı: QV sonucun doğru olduğunu kanıtlamak için klasik bir simülasyon gerektirir. Bu nedenle 30-40 qubitten büyük sistemler için ölçülemez.\n",
        "\n",
        "Başarı Kritei: Çıktıların üçte ikisinden fazlasının yüksek olasılıklı olması gerekir. M bu testi geçebilen en büyük qubit sayısıdır.\n",
        ""
      ],
      "metadata": {
        "id": "VD8NXFGNazBb"
      }
    },
    {
      "cell_type": "markdown",
      "source": [
        "3. Katman Güvenirliliği (Layer Fidelity):\n",
        "IBM'in büyük ölçekli sistemler için önerdiği bu yeni yaklaşım, QV'nin ve RB'nin sınırlamalarını aşmayı amaçlar.\n",
        "\n",
        "\n",
        "Katman Güvenirliliği Nedir?: Chazın genelini tek bir sentetik skorla değil, kullanışlı yapı taşları bazında değerlendirmek.\n",
        "\n",
        "Nasıl Çalışır:Qubitler eş zamanlı olarak çalıştırılabilecek kapı setlerinden oluşan katmanlara ayrılır.\n",
        "\n",
        "Avantaj: 1. Çapraz Konuşma Duyarlılığı: Tüm bir katmanı eş zamanlı ölçmek, kapılar arasındaki çapraz konuşmadan (cross talk) kaynaklanan hatalara duyarlı olmayı sağlar.\n",
        "\n",
        "3. Hata Hafifletme Uyumu: Katman yapısı, hata hafifletme (error mitigation) teknikleriyle (Zero Noise Extrapolation gibi) çok uyumludur."
      ],
      "metadata": {
        "id": "I8ZpIpMocNl2"
      }
    },
    {
      "cell_type": "markdown",
      "source": [
        "Özetle: Metrikler (sonuç), algoritmaların (test devreleri) çalıştırılmasıyla elde edilen veri setidir. Metrikler, algoritmanın kendisi değil, algoritmanın makine üzerindeki performans sonucudur.\n",
        "\n",
        "Bu ayrımı bilmek, bir kuantum işlemcinin teknik dokümanlarını okurken \"Bu makine bir algoritmayı değil, bir kıyaslama metodunu başarılı bir şekilde yürüttü\" demenizi sağlar."
      ],
      "metadata": {
        "id": "aZAmgp6Hd_2L"
      }
    }
  ]
}